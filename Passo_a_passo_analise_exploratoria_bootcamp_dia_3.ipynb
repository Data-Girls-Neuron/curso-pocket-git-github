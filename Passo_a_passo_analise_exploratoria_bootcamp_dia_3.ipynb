{
  "nbformat": 4,
  "nbformat_minor": 0,
  "metadata": {
    "colab": {
      "name": "Passo-a-passo-analise-exploratoria-bootcamp-dia-3.ipynb",
      "provenance": [],
      "collapsed_sections": [],
      "toc_visible": true
    },
    "kernelspec": {
      "name": "python3",
      "display_name": "Python 3"
    },
    "language_info": {
      "name": "python"
    }
  },
  "cells": [
    {
      "cell_type": "markdown",
      "metadata": {
        "id": "gCQBLUEAnuqf"
      },
      "source": [
        "# **Bootcamp Data Science na Prática II: Exemplo de Projeto**\n",
        "\n",
        "**Autoras do Notebook:** Ana Clara Mioto e Patricia de Alencar Tozi"
      ]
    },
    {
      "cell_type": "markdown",
      "metadata": {
        "id": "e3wZSlFK1TRq"
      },
      "source": [
        "1. Passo-a-passo de um Projeto de Data Science \n",
        "2. Passo-a-passo da Análise Exploratória\n",
        "3. Bônus: Modelagem de Dados\n",
        "4. Materiais de Estudo"
      ]
    },
    {
      "cell_type": "markdown",
      "metadata": {
        "id": "9QSH-Ur-z0k6"
      },
      "source": [
        "## **Projeto de Data Science**"
      ]
    },
    {
      "cell_type": "markdown",
      "metadata": {
        "id": "8HhgohKu14Iw"
      },
      "source": [
        "### Passo-a-passo\n",
        "\n",
        "![picture](https://drive.google.com/uc?id=1obFDbhG3feu7_Hc0JqFdOaHGsojsaQ6F)\n",
        "\n",
        "\n",
        "\n",
        "\n",
        "\n",
        "\n",
        "\n",
        "*Referências: Rezende, S. O. Sistemas inteligentes: fundamentos e aplicações. Editora Manole Ltda, 2003;  Aula 1 - Professor Ricardo Marcacini - Mineração de Dados Não Estruturados, ICMC-USP*\n"
      ]
    },
    {
      "cell_type": "markdown",
      "metadata": {
        "id": "5Hvpv-Q2WnBs"
      },
      "source": [
        "**1. Identificação do Problema:** entender o objetivo dessa aplicação, quais os dados que serão trabalhados, o que queremos alcançar/metas.\n",
        "\n",
        "**2. Pré-processamento:** analise exploratória, limpeza (valores ausentes e inconsistentes), transformação de dados(conversão de valores, normalização, padronização), redução da dimensionalidade, balanceamento dos dados.\n",
        "\n",
        "**3. Extração de padrões:** aplicar técnicas de machine learning.\n",
        "\n",
        "**4. Pós-processamento:** métricas de avaliação, verificar as metas.\n",
        "\n",
        "**5. Utilização do conhecimento:** aplicar no mercado (diagnóstico de doenças, análise de fraude, métricas de redes sociais)"
      ]
    },
    {
      "cell_type": "markdown",
      "metadata": {
        "id": "OglmlTwa0B_U"
      },
      "source": [
        "## **Análise Exploratória**\n",
        "\n",
        "Trabalharemos com o dataset sobre preços de abacates.\n",
        "Para saber mais sobre: https://www.kaggle.com/neuromusic/avocado-prices\n",
        "\n",
        "\n"
      ]
    },
    {
      "cell_type": "markdown",
      "metadata": {
        "id": "7wb94WzAq3si"
      },
      "source": [
        "### **Carregamento dos dados**"
      ]
    },
    {
      "cell_type": "code",
      "metadata": {
        "colab": {
          "base_uri": "https://localhost:8080/",
          "height": 204
        },
        "id": "r2UZo34Xq6aL",
        "outputId": "cbe05630-3d63-49e1-f08c-fb1a20244988"
      },
      "source": [
        "# Importação de bibliotecas\n",
        "import pandas as pd           # Renomeando a biblioteca pandas para pd\n",
        "import numpy as np            # Renomeando a biblioteca numpy para np\n",
        "\n",
        "# Aqui, estamos importando o arquivo CSV para o ambiente do Colab utilizando o \n",
        "# comando read_csv() da biblioteca pandas, que transforma o conjunto de dados \n",
        "# em um formato chamado DataFrame.\n",
        "dataframe = pd.read_csv('/content/sample_data/avocado.csv', sep=',', index_col=0)\n",
        "\n",
        "# Para verificar as primeiras linhas do DataFrame criado, utilizamos o comando\n",
        "# head(). Nesse caso, sem nenhum parâmetro dentro do parênteses, são apresentadas\n",
        "# apenas as 5 primeiras linhas. Se você deseja observar as 10 primeiras linhas,\n",
        "# por exemplo, o comando deve ser: dataframe.head(10)\n",
        "dataframe.head()"
      ],
      "execution_count": null,
      "outputs": [
        {
          "output_type": "execute_result",
          "data": {
            "text/html": [
              "<div>\n",
              "<style scoped>\n",
              "    .dataframe tbody tr th:only-of-type {\n",
              "        vertical-align: middle;\n",
              "    }\n",
              "\n",
              "    .dataframe tbody tr th {\n",
              "        vertical-align: top;\n",
              "    }\n",
              "\n",
              "    .dataframe thead th {\n",
              "        text-align: right;\n",
              "    }\n",
              "</style>\n",
              "<table border=\"1\" class=\"dataframe\">\n",
              "  <thead>\n",
              "    <tr style=\"text-align: right;\">\n",
              "      <th></th>\n",
              "      <th>Date</th>\n",
              "      <th>AveragePrice</th>\n",
              "      <th>Total Volume</th>\n",
              "      <th>4046</th>\n",
              "      <th>4225</th>\n",
              "      <th>4770</th>\n",
              "      <th>Total Bags</th>\n",
              "      <th>Small Bags</th>\n",
              "      <th>Large Bags</th>\n",
              "      <th>XLarge Bags</th>\n",
              "      <th>type</th>\n",
              "      <th>year</th>\n",
              "      <th>region</th>\n",
              "    </tr>\n",
              "  </thead>\n",
              "  <tbody>\n",
              "    <tr>\n",
              "      <th>0</th>\n",
              "      <td>2015-12-27</td>\n",
              "      <td>1.33</td>\n",
              "      <td>64236.62</td>\n",
              "      <td>1036.74</td>\n",
              "      <td>54454.85</td>\n",
              "      <td>48.16</td>\n",
              "      <td>8696.87</td>\n",
              "      <td>8603.62</td>\n",
              "      <td>93.25</td>\n",
              "      <td>0.0</td>\n",
              "      <td>conventional</td>\n",
              "      <td>2015</td>\n",
              "      <td>Albany</td>\n",
              "    </tr>\n",
              "    <tr>\n",
              "      <th>1</th>\n",
              "      <td>2015-12-20</td>\n",
              "      <td>1.35</td>\n",
              "      <td>54876.98</td>\n",
              "      <td>674.28</td>\n",
              "      <td>44638.81</td>\n",
              "      <td>58.33</td>\n",
              "      <td>9505.56</td>\n",
              "      <td>9408.07</td>\n",
              "      <td>97.49</td>\n",
              "      <td>0.0</td>\n",
              "      <td>conventional</td>\n",
              "      <td>2015</td>\n",
              "      <td>Albany</td>\n",
              "    </tr>\n",
              "    <tr>\n",
              "      <th>2</th>\n",
              "      <td>2015-12-13</td>\n",
              "      <td>0.93</td>\n",
              "      <td>118220.22</td>\n",
              "      <td>794.70</td>\n",
              "      <td>109149.67</td>\n",
              "      <td>130.50</td>\n",
              "      <td>8145.35</td>\n",
              "      <td>8042.21</td>\n",
              "      <td>103.14</td>\n",
              "      <td>0.0</td>\n",
              "      <td>conventional</td>\n",
              "      <td>2015</td>\n",
              "      <td>Albany</td>\n",
              "    </tr>\n",
              "    <tr>\n",
              "      <th>3</th>\n",
              "      <td>2015-12-06</td>\n",
              "      <td>1.08</td>\n",
              "      <td>78992.15</td>\n",
              "      <td>1132.00</td>\n",
              "      <td>71976.41</td>\n",
              "      <td>72.58</td>\n",
              "      <td>5811.16</td>\n",
              "      <td>5677.40</td>\n",
              "      <td>133.76</td>\n",
              "      <td>0.0</td>\n",
              "      <td>conventional</td>\n",
              "      <td>2015</td>\n",
              "      <td>Albany</td>\n",
              "    </tr>\n",
              "    <tr>\n",
              "      <th>4</th>\n",
              "      <td>2015-11-29</td>\n",
              "      <td>1.28</td>\n",
              "      <td>51039.60</td>\n",
              "      <td>941.48</td>\n",
              "      <td>43838.39</td>\n",
              "      <td>75.78</td>\n",
              "      <td>6183.95</td>\n",
              "      <td>5986.26</td>\n",
              "      <td>197.69</td>\n",
              "      <td>0.0</td>\n",
              "      <td>conventional</td>\n",
              "      <td>2015</td>\n",
              "      <td>Albany</td>\n",
              "    </tr>\n",
              "  </tbody>\n",
              "</table>\n",
              "</div>"
            ],
            "text/plain": [
              "         Date  AveragePrice  Total Volume  ...          type  year  region\n",
              "0  2015-12-27          1.33      64236.62  ...  conventional  2015  Albany\n",
              "1  2015-12-20          1.35      54876.98  ...  conventional  2015  Albany\n",
              "2  2015-12-13          0.93     118220.22  ...  conventional  2015  Albany\n",
              "3  2015-12-06          1.08      78992.15  ...  conventional  2015  Albany\n",
              "4  2015-11-29          1.28      51039.60  ...  conventional  2015  Albany\n",
              "\n",
              "[5 rows x 13 columns]"
            ]
          },
          "metadata": {},
          "execution_count": 1
        }
      ]
    },
    {
      "cell_type": "markdown",
      "metadata": {
        "id": "qLDPPuTmrIW-"
      },
      "source": [
        "### **Descrição das colunas relevantes**\n",
        "\n",
        "\n",
        "\n",
        "*   `Date`: data de observação\n",
        "*   `AveragePrice`: preço médio de um abacate simples\n",
        "*   `Total Volume`: quantidade total de abacates vendidos\n",
        "*   `4046`: quantidade de abacates não-orgânicos de tamanho pequeno/médio (PLU 4046) vendidos\n",
        "*   `4225`: quantidade de abacates não-orgânicos de tamanho grande (PLU 4225) vendidos\n",
        "*   `4770`: quantidade de abacates não-orgânicos de tamanho extra grande (PLU 4770) vendidos\n",
        "*   `type`: convencional ou orgânica \n",
        "*   `year`: ano\n",
        "*   `region`: região ou cidade onde os dados foram coletados"
      ]
    },
    {
      "cell_type": "markdown",
      "metadata": {
        "id": "4PI0mnZkrNVz"
      },
      "source": [
        "### **Visão Geral**\n",
        "\n",
        "Antes de começarmos a análise exploratória do nosso conjunto de dados, é  importante analisar algumas informações relevantes sobre o mesmo.\n",
        "\n",
        "O comando `info()` fornece informações gerais sobre as colunas, a quantidade de valores não nulos e o tipo (`dtype`) das variáveis para cada uma dessas colunas.\n",
        "\n",
        "O comando `shape` fornece a quantidade de linhas e colunas respectivamente.\n",
        "\n",
        "Já o comando `describe()` apresenta alguns fatores estatísticos para cada coluna do DataFrame, como o `count` (soma de todos os valores numéricos) e a `mean` (média aritmética desses valores). "
      ]
    },
    {
      "cell_type": "code",
      "metadata": {
        "colab": {
          "base_uri": "https://localhost:8080/"
        },
        "id": "hFHpMhwRq7tC",
        "outputId": "e9aa3435-660c-4571-bdfe-efa403632815"
      },
      "source": [
        "# Informações gerais\n",
        "dataframe.info()"
      ],
      "execution_count": null,
      "outputs": [
        {
          "output_type": "stream",
          "text": [
            "<class 'pandas.core.frame.DataFrame'>\n",
            "Int64Index: 18249 entries, 0 to 11\n",
            "Data columns (total 13 columns):\n",
            " #   Column        Non-Null Count  Dtype  \n",
            "---  ------        --------------  -----  \n",
            " 0   Date          18249 non-null  object \n",
            " 1   AveragePrice  18249 non-null  float64\n",
            " 2   Total Volume  18249 non-null  float64\n",
            " 3   4046          18249 non-null  float64\n",
            " 4   4225          18249 non-null  float64\n",
            " 5   4770          18249 non-null  float64\n",
            " 6   Total Bags    18249 non-null  float64\n",
            " 7   Small Bags    18249 non-null  float64\n",
            " 8   Large Bags    18249 non-null  float64\n",
            " 9   XLarge Bags   18249 non-null  float64\n",
            " 10  type          18249 non-null  object \n",
            " 11  year          18249 non-null  int64  \n",
            " 12  region        18249 non-null  object \n",
            "dtypes: float64(9), int64(1), object(3)\n",
            "memory usage: 1.9+ MB\n"
          ],
          "name": "stdout"
        }
      ]
    },
    {
      "cell_type": "code",
      "metadata": {
        "colab": {
          "base_uri": "https://localhost:8080/"
        },
        "id": "3V4yqQAi8kKU",
        "outputId": "1c09a828-a753-4463-95fc-b917e79dca6e"
      },
      "source": [
        "# Tamanho do DataFrame (linhas, colunas)\n",
        "dataframe.shape"
      ],
      "execution_count": null,
      "outputs": [
        {
          "output_type": "execute_result",
          "data": {
            "text/plain": [
              "(18249, 13)"
            ]
          },
          "metadata": {},
          "execution_count": 3
        }
      ]
    },
    {
      "cell_type": "code",
      "metadata": {
        "colab": {
          "base_uri": "https://localhost:8080/",
          "height": 297
        },
        "id": "Pzl8PTabrSno",
        "outputId": "a0050ce8-0ca1-4f15-d3c9-6731bb510c4e"
      },
      "source": [
        "# Descrição estatística\n",
        "dataframe.describe()"
      ],
      "execution_count": null,
      "outputs": [
        {
          "output_type": "execute_result",
          "data": {
            "text/html": [
              "<div>\n",
              "<style scoped>\n",
              "    .dataframe tbody tr th:only-of-type {\n",
              "        vertical-align: middle;\n",
              "    }\n",
              "\n",
              "    .dataframe tbody tr th {\n",
              "        vertical-align: top;\n",
              "    }\n",
              "\n",
              "    .dataframe thead th {\n",
              "        text-align: right;\n",
              "    }\n",
              "</style>\n",
              "<table border=\"1\" class=\"dataframe\">\n",
              "  <thead>\n",
              "    <tr style=\"text-align: right;\">\n",
              "      <th></th>\n",
              "      <th>AveragePrice</th>\n",
              "      <th>Total Volume</th>\n",
              "      <th>4046</th>\n",
              "      <th>4225</th>\n",
              "      <th>4770</th>\n",
              "      <th>Total Bags</th>\n",
              "      <th>Small Bags</th>\n",
              "      <th>Large Bags</th>\n",
              "      <th>XLarge Bags</th>\n",
              "      <th>year</th>\n",
              "    </tr>\n",
              "  </thead>\n",
              "  <tbody>\n",
              "    <tr>\n",
              "      <th>count</th>\n",
              "      <td>18249.000000</td>\n",
              "      <td>1.824900e+04</td>\n",
              "      <td>1.824900e+04</td>\n",
              "      <td>1.824900e+04</td>\n",
              "      <td>1.824900e+04</td>\n",
              "      <td>1.824900e+04</td>\n",
              "      <td>1.824900e+04</td>\n",
              "      <td>1.824900e+04</td>\n",
              "      <td>18249.000000</td>\n",
              "      <td>18249.000000</td>\n",
              "    </tr>\n",
              "    <tr>\n",
              "      <th>mean</th>\n",
              "      <td>1.405978</td>\n",
              "      <td>8.506440e+05</td>\n",
              "      <td>2.930084e+05</td>\n",
              "      <td>2.951546e+05</td>\n",
              "      <td>2.283974e+04</td>\n",
              "      <td>2.396392e+05</td>\n",
              "      <td>1.821947e+05</td>\n",
              "      <td>5.433809e+04</td>\n",
              "      <td>3106.426507</td>\n",
              "      <td>2016.147899</td>\n",
              "    </tr>\n",
              "    <tr>\n",
              "      <th>std</th>\n",
              "      <td>0.402677</td>\n",
              "      <td>3.453545e+06</td>\n",
              "      <td>1.264989e+06</td>\n",
              "      <td>1.204120e+06</td>\n",
              "      <td>1.074641e+05</td>\n",
              "      <td>9.862424e+05</td>\n",
              "      <td>7.461785e+05</td>\n",
              "      <td>2.439660e+05</td>\n",
              "      <td>17692.894652</td>\n",
              "      <td>0.939938</td>\n",
              "    </tr>\n",
              "    <tr>\n",
              "      <th>min</th>\n",
              "      <td>0.440000</td>\n",
              "      <td>8.456000e+01</td>\n",
              "      <td>0.000000e+00</td>\n",
              "      <td>0.000000e+00</td>\n",
              "      <td>0.000000e+00</td>\n",
              "      <td>0.000000e+00</td>\n",
              "      <td>0.000000e+00</td>\n",
              "      <td>0.000000e+00</td>\n",
              "      <td>0.000000</td>\n",
              "      <td>2015.000000</td>\n",
              "    </tr>\n",
              "    <tr>\n",
              "      <th>25%</th>\n",
              "      <td>1.100000</td>\n",
              "      <td>1.083858e+04</td>\n",
              "      <td>8.540700e+02</td>\n",
              "      <td>3.008780e+03</td>\n",
              "      <td>0.000000e+00</td>\n",
              "      <td>5.088640e+03</td>\n",
              "      <td>2.849420e+03</td>\n",
              "      <td>1.274700e+02</td>\n",
              "      <td>0.000000</td>\n",
              "      <td>2015.000000</td>\n",
              "    </tr>\n",
              "    <tr>\n",
              "      <th>50%</th>\n",
              "      <td>1.370000</td>\n",
              "      <td>1.073768e+05</td>\n",
              "      <td>8.645300e+03</td>\n",
              "      <td>2.906102e+04</td>\n",
              "      <td>1.849900e+02</td>\n",
              "      <td>3.974383e+04</td>\n",
              "      <td>2.636282e+04</td>\n",
              "      <td>2.647710e+03</td>\n",
              "      <td>0.000000</td>\n",
              "      <td>2016.000000</td>\n",
              "    </tr>\n",
              "    <tr>\n",
              "      <th>75%</th>\n",
              "      <td>1.660000</td>\n",
              "      <td>4.329623e+05</td>\n",
              "      <td>1.110202e+05</td>\n",
              "      <td>1.502069e+05</td>\n",
              "      <td>6.243420e+03</td>\n",
              "      <td>1.107834e+05</td>\n",
              "      <td>8.333767e+04</td>\n",
              "      <td>2.202925e+04</td>\n",
              "      <td>132.500000</td>\n",
              "      <td>2017.000000</td>\n",
              "    </tr>\n",
              "    <tr>\n",
              "      <th>max</th>\n",
              "      <td>3.250000</td>\n",
              "      <td>6.250565e+07</td>\n",
              "      <td>2.274362e+07</td>\n",
              "      <td>2.047057e+07</td>\n",
              "      <td>2.546439e+06</td>\n",
              "      <td>1.937313e+07</td>\n",
              "      <td>1.338459e+07</td>\n",
              "      <td>5.719097e+06</td>\n",
              "      <td>551693.650000</td>\n",
              "      <td>2018.000000</td>\n",
              "    </tr>\n",
              "  </tbody>\n",
              "</table>\n",
              "</div>"
            ],
            "text/plain": [
              "       AveragePrice  Total Volume  ...    XLarge Bags          year\n",
              "count  18249.000000  1.824900e+04  ...   18249.000000  18249.000000\n",
              "mean       1.405978  8.506440e+05  ...    3106.426507   2016.147899\n",
              "std        0.402677  3.453545e+06  ...   17692.894652      0.939938\n",
              "min        0.440000  8.456000e+01  ...       0.000000   2015.000000\n",
              "25%        1.100000  1.083858e+04  ...       0.000000   2015.000000\n",
              "50%        1.370000  1.073768e+05  ...       0.000000   2016.000000\n",
              "75%        1.660000  4.329623e+05  ...     132.500000   2017.000000\n",
              "max        3.250000  6.250565e+07  ...  551693.650000   2018.000000\n",
              "\n",
              "[8 rows x 10 columns]"
            ]
          },
          "metadata": {},
          "execution_count": 4
        }
      ]
    },
    {
      "cell_type": "markdown",
      "metadata": {
        "id": "JYaptchs9yNY"
      },
      "source": [
        "### **Exploração dos dados**"
      ]
    },
    {
      "cell_type": "markdown",
      "metadata": {
        "id": "DyKN8LRK9mOr"
      },
      "source": [
        "Um fator que pode influenciar em muito na sua análise exploratória é a presença de colunas com muitos valores nulos (chamamos de valores `null`). Para tanto, precisamos identificar a quantidade de valores nulos no conjunto de dados em questão, utilizando os comandos `isnull()` e `sum()`, um seguido do outro:"
      ]
    },
    {
      "cell_type": "code",
      "metadata": {
        "colab": {
          "base_uri": "https://localhost:8080/"
        },
        "id": "aYOjiTSi7hNf",
        "outputId": "39e3b2eb-4ca0-4a62-a4d6-cbf456793f4b"
      },
      "source": [
        "dataframe.isnull().sum()"
      ],
      "execution_count": null,
      "outputs": [
        {
          "output_type": "execute_result",
          "data": {
            "text/plain": [
              "Date            0\n",
              "AveragePrice    0\n",
              "Total Volume    0\n",
              "4046            0\n",
              "4225            0\n",
              "4770            0\n",
              "Total Bags      0\n",
              "Small Bags      0\n",
              "Large Bags      0\n",
              "XLarge Bags     0\n",
              "type            0\n",
              "year            0\n",
              "region          0\n",
              "dtype: int64"
            ]
          },
          "metadata": {},
          "execution_count": 5
        }
      ]
    },
    {
      "cell_type": "markdown",
      "metadata": {
        "id": "rtzA-gbDlmaZ"
      },
      "source": [
        "No caso, não há nenhum valor nulo nas colunas do DataFrame."
      ]
    },
    {
      "cell_type": "markdown",
      "metadata": {
        "id": "Slx2rpcQsBQm"
      },
      "source": [
        "Para analisar a quantidade de cada tipo de abacate (convencional ou orgânico), sendo valores associados à coluna `type` do DataFrame, utilizamos o comando `value_counts()` apenas para a coluna `type` (`dataframe['type']`):"
      ]
    },
    {
      "cell_type": "code",
      "metadata": {
        "colab": {
          "base_uri": "https://localhost:8080/"
        },
        "id": "GTGobV3r9C3k",
        "outputId": "589f9caa-d05e-44f9-88b1-3a3292b45d62"
      },
      "source": [
        "dataframe['type'].value_counts()"
      ],
      "execution_count": null,
      "outputs": [
        {
          "output_type": "execute_result",
          "data": {
            "text/plain": [
              "conventional    9126\n",
              "organic         9123\n",
              "Name: type, dtype: int64"
            ]
          },
          "metadata": {},
          "execution_count": 6
        }
      ]
    },
    {
      "cell_type": "markdown",
      "metadata": {
        "id": "r2FM4Td39gRb"
      },
      "source": [
        "Agora, queremos descobrir a quantidade de registros (linhas) de abacates vendidos para cada região. Para tanto, aplicamos o comando `value_counts()` novamente para os valores da coluna `region` (`dataframe['region']`):"
      ]
    },
    {
      "cell_type": "code",
      "metadata": {
        "colab": {
          "base_uri": "https://localhost:8080/"
        },
        "id": "J35W7DGI9uQ6",
        "outputId": "1fc1f72f-d83c-4f85-b667-c851711efb12"
      },
      "source": [
        "dataframe['region'].value_counts()"
      ],
      "execution_count": null,
      "outputs": [
        {
          "output_type": "execute_result",
          "data": {
            "text/plain": [
              "CincinnatiDayton       338\n",
              "StLouis                338\n",
              "Atlanta                338\n",
              "Portland               338\n",
              "Seattle                338\n",
              "Tampa                  338\n",
              "RichmondNorfolk        338\n",
              "TotalUS                338\n",
              "Detroit                338\n",
              "Southeast              338\n",
              "GreatLakes             338\n",
              "Denver                 338\n",
              "Indianapolis           338\n",
              "HartfordSpringfield    338\n",
              "NorthernNewEngland     338\n",
              "RaleighGreensboro      338\n",
              "Columbus               338\n",
              "Plains                 338\n",
              "Spokane                338\n",
              "GrandRapids            338\n",
              "SouthCentral           338\n",
              "Houston                338\n",
              "BaltimoreWashington    338\n",
              "DallasFtWorth          338\n",
              "Sacramento             338\n",
              "NewOrleansMobile       338\n",
              "Midsouth               338\n",
              "Chicago                338\n",
              "SanFrancisco           338\n",
              "Orlando                338\n",
              "MiamiFtLauderdale      338\n",
              "Roanoke                338\n",
              "PhoenixTucson          338\n",
              "LosAngeles             338\n",
              "Louisville             338\n",
              "SanDiego               338\n",
              "Syracuse               338\n",
              "NewYork                338\n",
              "Philadelphia           338\n",
              "SouthCarolina          338\n",
              "HarrisburgScranton     338\n",
              "Boise                  338\n",
              "Boston                 338\n",
              "Northeast              338\n",
              "Nashville              338\n",
              "BuffaloRochester       338\n",
              "LasVegas               338\n",
              "Pittsburgh             338\n",
              "Jacksonville           338\n",
              "California             338\n",
              "West                   338\n",
              "Albany                 338\n",
              "Charlotte              338\n",
              "WestTexNewMexico       335\n",
              "Name: region, dtype: int64"
            ]
          },
          "metadata": {},
          "execution_count": 7
        }
      ]
    },
    {
      "cell_type": "markdown",
      "metadata": {
        "id": "d_wZHgKaAZsd"
      },
      "source": [
        "Como o DataFrame já possui uma coluna Ano, removeremos a coluna que apresenta as datas (`Date`), visto que seriam valores redundantes para a nossa análise. Então, utilizando o comando `drop()`, incluindo a coluna que queremos retirar do DataFrame nos parâmetros de entrada."
      ]
    },
    {
      "cell_type": "code",
      "metadata": {
        "id": "n1Te7TjaLULZ"
      },
      "source": [
        "dataframe.drop(columns='Date', axis = 1, inplace = True)"
      ],
      "execution_count": null,
      "outputs": []
    },
    {
      "cell_type": "markdown",
      "metadata": {
        "id": "G29zuG_Hkqjs"
      },
      "source": [
        "Depois de remover a coluna de datas, verificaremos quais colunas restaram utilizando o comando `columns`:"
      ]
    },
    {
      "cell_type": "code",
      "metadata": {
        "colab": {
          "base_uri": "https://localhost:8080/"
        },
        "id": "6XQlK3lFAtgj",
        "outputId": "46494a1a-252f-4211-dc17-71ed5495b5ce"
      },
      "source": [
        "# Verificando quais colunas permaneceram no DataFrame\n",
        "dataframe.columns"
      ],
      "execution_count": null,
      "outputs": [
        {
          "output_type": "execute_result",
          "data": {
            "text/plain": [
              "Index(['AveragePrice', 'Total Volume', '4046', '4225', '4770', 'Total Bags',\n",
              "       'Small Bags', 'Large Bags', 'XLarge Bags', 'type', 'year', 'region'],\n",
              "      dtype='object')"
            ]
          },
          "metadata": {},
          "execution_count": 17
        }
      ]
    },
    {
      "cell_type": "markdown",
      "metadata": {
        "id": "z8it7mYPA8MX"
      },
      "source": [
        "Outra análise interessante que podemos fazer, é observar o volume total de abacates vendidos para cada tipo, que pode ser realizado através do comando a seguir utilizando `groupby` (\"agrupamento por\"):"
      ]
    },
    {
      "cell_type": "code",
      "metadata": {
        "colab": {
          "base_uri": "https://localhost:8080/",
          "height": 142
        },
        "id": "TGJg0V8dA8ho",
        "outputId": "51c217d6-c290-440f-cd35-6f4beca53457"
      },
      "source": [
        "dataframe.groupby('type')['Total Volume'].agg(['sum']).round()"
      ],
      "execution_count": null,
      "outputs": [
        {
          "output_type": "execute_result",
          "data": {
            "text/html": [
              "<div>\n",
              "<style scoped>\n",
              "    .dataframe tbody tr th:only-of-type {\n",
              "        vertical-align: middle;\n",
              "    }\n",
              "\n",
              "    .dataframe tbody tr th {\n",
              "        vertical-align: top;\n",
              "    }\n",
              "\n",
              "    .dataframe thead th {\n",
              "        text-align: right;\n",
              "    }\n",
              "</style>\n",
              "<table border=\"1\" class=\"dataframe\">\n",
              "  <thead>\n",
              "    <tr style=\"text-align: right;\">\n",
              "      <th></th>\n",
              "      <th>sum</th>\n",
              "    </tr>\n",
              "    <tr>\n",
              "      <th>type</th>\n",
              "      <th></th>\n",
              "    </tr>\n",
              "  </thead>\n",
              "  <tbody>\n",
              "    <tr>\n",
              "      <th>conventional</th>\n",
              "      <td>1.508722e+10</td>\n",
              "    </tr>\n",
              "    <tr>\n",
              "      <th>organic</th>\n",
              "      <td>4.361817e+08</td>\n",
              "    </tr>\n",
              "  </tbody>\n",
              "</table>\n",
              "</div>"
            ],
            "text/plain": [
              "                       sum\n",
              "type                      \n",
              "conventional  1.508722e+10\n",
              "organic       4.361817e+08"
            ]
          },
          "metadata": {},
          "execution_count": 18
        }
      ]
    },
    {
      "cell_type": "markdown",
      "metadata": {
        "id": "4r6DjLYuBNBR"
      },
      "source": [
        "Também, é relevante verificar o preço médio dos abacates vendidos para cada tipo:"
      ]
    },
    {
      "cell_type": "code",
      "metadata": {
        "colab": {
          "base_uri": "https://localhost:8080/",
          "height": 142
        },
        "id": "Ra5vXyQ5BMcJ",
        "outputId": "3175f105-47e8-4b73-c451-8a6e5399e6eb"
      },
      "source": [
        "dataframe.groupby('type')['AveragePrice'].agg(['mean']).round(2)"
      ],
      "execution_count": null,
      "outputs": [
        {
          "output_type": "execute_result",
          "data": {
            "text/html": [
              "<div>\n",
              "<style scoped>\n",
              "    .dataframe tbody tr th:only-of-type {\n",
              "        vertical-align: middle;\n",
              "    }\n",
              "\n",
              "    .dataframe tbody tr th {\n",
              "        vertical-align: top;\n",
              "    }\n",
              "\n",
              "    .dataframe thead th {\n",
              "        text-align: right;\n",
              "    }\n",
              "</style>\n",
              "<table border=\"1\" class=\"dataframe\">\n",
              "  <thead>\n",
              "    <tr style=\"text-align: right;\">\n",
              "      <th></th>\n",
              "      <th>mean</th>\n",
              "    </tr>\n",
              "    <tr>\n",
              "      <th>type</th>\n",
              "      <th></th>\n",
              "    </tr>\n",
              "  </thead>\n",
              "  <tbody>\n",
              "    <tr>\n",
              "      <th>conventional</th>\n",
              "      <td>1.16</td>\n",
              "    </tr>\n",
              "    <tr>\n",
              "      <th>organic</th>\n",
              "      <td>1.65</td>\n",
              "    </tr>\n",
              "  </tbody>\n",
              "</table>\n",
              "</div>"
            ],
            "text/plain": [
              "              mean\n",
              "type              \n",
              "conventional  1.16\n",
              "organic       1.65"
            ]
          },
          "metadata": {},
          "execution_count": 19
        }
      ]
    },
    {
      "cell_type": "markdown",
      "metadata": {
        "id": "v8RUJVQFB1K7"
      },
      "source": [
        "### **Visualização das informações**\n",
        "\n",
        "Antes de começarmos efetivamente a nossa modelagem de dados, é importante obter informações através de gráficos criados a partir do conjunto de dados em estudo.\n",
        "\n",
        "Primeiramente, importaremos as bibliotecas de visualização `seaborn` e `matplotlib`."
      ]
    },
    {
      "cell_type": "code",
      "metadata": {
        "id": "6p26BoPvB1hY"
      },
      "source": [
        "# Importação das bibliotecas de visualização\n",
        "import seaborn as sns\n",
        "import matplotlib.pyplot as plt"
      ],
      "execution_count": null,
      "outputs": []
    },
    {
      "cell_type": "markdown",
      "metadata": {
        "id": "z0iWiGdRnK-V"
      },
      "source": [
        "Em seguida, queremos criar um gráfico que apresenta a contagem de cada tipo de abacate (dados da coluna `type`). Utilizaremos o comando `countplot()`, parametrizando os valores da coluna de tipos (`dataframe['type']`):"
      ]
    },
    {
      "cell_type": "code",
      "metadata": {
        "colab": {
          "base_uri": "https://localhost:8080/",
          "height": 350
        },
        "id": "a-N585fBCEpr",
        "outputId": "f9de5a24-ee24-4976-ae29-d0b1b905e4b3"
      },
      "source": [
        "sns.countplot(dataframe['type'])"
      ],
      "execution_count": null,
      "outputs": [
        {
          "output_type": "stream",
          "text": [
            "/usr/local/lib/python3.7/dist-packages/seaborn/_decorators.py:43: FutureWarning: Pass the following variable as a keyword arg: x. From version 0.12, the only valid positional argument will be `data`, and passing other arguments without an explicit keyword will result in an error or misinterpretation.\n",
            "  FutureWarning\n"
          ],
          "name": "stderr"
        },
        {
          "output_type": "execute_result",
          "data": {
            "text/plain": [
              "<matplotlib.axes._subplots.AxesSubplot at 0x7f62ea8f96d0>"
            ]
          },
          "metadata": {},
          "execution_count": 12
        },
        {
          "output_type": "display_data",
          "data": {
            "image/png": "[encoded data removed]",
            "text/plain": [
              "<Figure size 432x288 with 1 Axes>"
            ]
          },
          "metadata": {
            "needs_background": "light"
          }
        }
      ]
    },
    {
      "cell_type": "markdown",
      "metadata": {
        "id": "yBE6j824n8Ng"
      },
      "source": [
        "Por último, criaremos um gráfico através do comando `lineplot()`, passando como parâmetros os valores da coluna **Ano** (`dataframe['year']`) para o eixo x e os valores da coluna **Média aritmética de preços** (`dataframe['AveragePrice']`) para o eixo x, no intuito de observar as distribuições da média de preços pelos anos de estudo."
      ]
    },
    {
      "cell_type": "code",
      "metadata": {
        "colab": {
          "base_uri": "https://localhost:8080/",
          "height": 279
        },
        "id": "OY-MeD9GCWVp",
        "outputId": "aaeb6624-bc59-4f0a-9027-e8f1a32892b5"
      },
      "source": [
        "# Distribuição da Média de preços pelos valores da coluna Ano\n",
        "sns.lineplot(x = dataframe['year'], y = dataframe['AveragePrice'], color = \"red\")\n",
        "\n",
        "# Comando da biblioteca matplotlib para apresentar no output o gráfico criado\n",
        "# anteriormente. \n",
        "plt.show()"
      ],
      "execution_count": null,
      "outputs": [
        {
          "output_type": "display_data",
          "data": {
            "image/png": "[encoded data removed]",
            "text/plain": [
              "<Figure size 432x288 with 1 Axes>"
            ]
          },
          "metadata": {
            "needs_background": "light"
          }
        }
      ]
    },
    {
      "cell_type": "markdown",
      "metadata": {
        "id": "Urxqw1k1JmqO"
      },
      "source": [
        "## **Bônus: Modelagem de Dados**\n",
        "\n",
        "Vamos predizer os preços médios dos abacates, utilizando um modelo de Regressão Linear. Serão utilizados os seguintes comandos da biblioteca `sklearn`: \n",
        "técnicas `model_selection`\n",
        "\n",
        "*   `train_test_split` da técnica `model_selection`: divide o dataset em uma parte para treino e outra para validação.\n",
        "*   `LinearRegression` da técnica `linear_model`: aplica a função de Regressão Linear para modelagem dos dados.\n",
        "*   `r2_score` da técnica `metrics`: utilizado para verificar a acurácia do nosso modelo (porcentagem de acerto)."
      ]
    },
    {
      "cell_type": "code",
      "metadata": {
        "id": "SG0n-h1NO-ZN"
      },
      "source": [
        "# Importação das bibliotecas\n",
        "from sklearn.model_selection import train_test_split\n",
        "from sklearn.linear_model import LinearRegression\n",
        "from sklearn.metrics import r2_score"
      ],
      "execution_count": null,
      "outputs": []
    },
    {
      "cell_type": "markdown",
      "metadata": {
        "id": "s2kuKFcDsKI7"
      },
      "source": [
        "Em seguida, definimos a coluna que gostaríamos de utilizar como alvo da modelagem, no caso, os valores da coluna `AveragePrice`. Para tanto, armazenamos todos os valores da coluna em questão para a variável `y` e todas os valores das outras colunas para a variável `X`, transformando todas as variáveis categóricas (não numéricas) destas outras colunas em valores numéricos com o comando `get_dummies()` da biblioteca `pandas`.\n",
        "\n",
        "Por fim, dividimos o dataset em valores de treino (`train`) e teste de validação  (`test`), através do comando `train_test_split()`."
      ]
    },
    {
      "cell_type": "code",
      "metadata": {
        "id": "-H8AUPH5EQzL"
      },
      "source": [
        "# Armazenamento dos valores da coluna AveragePrice na variável y\n",
        "y = dataframe['AveragePrice']  \n",
        "# Armazenamento dos valores das outras colunas restantes na variável X\n",
        "X = dataframe.drop(['AveragePrice'], axis = 1)\n",
        "\n",
        "# Transformando as variáveis categóricas em numéricas\n",
        "X = pd.get_dummies(X)\n",
        "\n",
        "# Separando o dataset em parcelas de teste e treino de validação \n",
        "X_train, X_test, y_train, y_test = train_test_split(X.values, y.values, random_state = 42)"
      ],
      "execution_count": null,
      "outputs": []
    },
    {
      "cell_type": "markdown",
      "metadata": {
        "id": "_X5Xh_m7P4rY"
      },
      "source": [
        "### **Regressão Linear**"
      ]
    },
    {
      "cell_type": "markdown",
      "metadata": {
        "id": "MTftpMg3vJRb"
      },
      "source": [
        "Nesta etapa da modelagem, aplicamos a função de Regressão Linear propriamente dita. Primeiro, instanciamos a função com o comando `LinearRegression()`, armazenando na variável `lr`, e, depois, aplicamos o método `fit()` com os parâmetros de treino (`X_train` e `y_train`) para efetivamente treinar o modelo criado."
      ]
    },
    {
      "cell_type": "code",
      "metadata": {
        "id": "dFMCzkZePxmn"
      },
      "source": [
        "# Instanciando a regressão\n",
        "lr = LinearRegression()\n",
        "\n",
        "# Treinando o modelo\n",
        "modelo = lr.fit(X_train, y_train)"
      ],
      "execution_count": null,
      "outputs": []
    },
    {
      "cell_type": "markdown",
      "metadata": {
        "id": "Jq3KDJHfvuo-"
      },
      "source": [
        "Então, utilizamos o método `predict()` sobre o objeto `lr`, passando o parâmetro de teste do eixo X (`X_test`) para encontrar as médias de preço dos abacates (valor armazenado na variável `y_pred`):"
      ]
    },
    {
      "cell_type": "code",
      "metadata": {
        "id": "3M16Pt-FP_87"
      },
      "source": [
        "# Predição dos preços médios dos abacates\n",
        "y_pred = lr.predict(X_test)"
      ],
      "execution_count": null,
      "outputs": []
    },
    {
      "cell_type": "markdown",
      "metadata": {
        "id": "B8usFmwVwSqH"
      },
      "source": [
        "Por último, extraimos a acurácia (porcentagem de acerto) do nosso modelo através do método `r2_score()`:"
      ]
    },
    {
      "cell_type": "code",
      "metadata": {
        "colab": {
          "base_uri": "https://localhost:8080/"
        },
        "id": "JtngJcYLSoJU",
        "outputId": "32660a25-a784-4574-fd03-7f6b0dd3bfb7"
      },
      "source": [
        " # Acurácia do modelo criado\n",
        " r2_score(y_test, y_pred)"
      ],
      "execution_count": null,
      "outputs": [
        {
          "output_type": "execute_result",
          "data": {
            "text/plain": [
              "0.550200403020398"
            ]
          },
          "metadata": {},
          "execution_count": 44
        }
      ]
    },
    {
      "cell_type": "markdown",
      "metadata": {
        "id": "cGqjmRcvwlR1"
      },
      "source": [
        "Com isso, verificamos que o modelo de Regressão Linear possui uma porcentagem de acerto parcialmente satisfatória (cerca de 55,02%) para predizer a média de preços dos abacates."
      ]
    },
    {
      "cell_type": "markdown",
      "metadata": {
        "id": "0Dqyoy9iafFz"
      },
      "source": [
        "## **Materiais de Estudo**\n",
        "\n",
        "Recomendamos que vocês estudem todos os materiais apresentados durante o Bootcamp, reveja as gravações de cada dia caso necessário, e olhe o tutorial de como usar o Colab da Alura caso seja necessário.\n",
        "\n",
        "Bons estudos! :)"
      ]
    },
    {
      "cell_type": "markdown",
      "metadata": {
        "id": "qwFnCWG7anFR"
      },
      "source": [
        "*   *Tutorial de como usar o Colab:* https://www.alura.com.br/artigos/google-colab-o-que-e-e-como-usar\n",
        "*   *Aula de introdução a Python:*\n",
        "https://github.com/patriciatozi/analytics-training-python/blob/main/Treinamento_Analytics_Introdu%C3%A7%C3%A3o_%C3%A0_L%C3%B3gica_de_Programa%C3%A7%C3%A3o.ipynb\n",
        "*   *Aula de Visualização de Dados com Seaborn:* https://drive.google.com/drive/folders/1Ru08TPT2Gl0gd_VLpKlaqDiiM4QDfiih?usp=sharing\n",
        "*   *Gravação do primeiro dia do Bootcamp:* https://drive.google.com/file/d/1kVzrImt1AUO5dVn_b5Xn3i6sBpjXDtyb/view?usp=sharing\n",
        "*   *Gravação do segundo dia do Bootcamp:* https://drive.google.com/file/d/1jqc4HDcntoikMpsxifjBabYqw1a_AZui/view?usp=sharing\n",
        "*   *Gravação do terceiro dia do Bootcamp:* https://drive.google.com/file/d/1eqfZDFXIPj0FUuqQWYuO8SoSiigDRw6I/view?usp=sharing"
      ]
    }
  ]
}